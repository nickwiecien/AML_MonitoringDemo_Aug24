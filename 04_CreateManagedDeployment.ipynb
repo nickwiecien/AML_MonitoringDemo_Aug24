{
 "cells": [
  {
   "cell_type": "markdown",
   "id": "737ca20c",
   "metadata": {},
   "source": [
    "# Step 04 - Deploy model to Online Endpoint\n",
    "\n",
    "Use custom serving container to deploy model to managed endpoint with model data collection (inputs & outputs) configured for automatic capture of data sent to the endpoint"
   ]
  },
  {
   "cell_type": "markdown",
   "id": "b9142766",
   "metadata": {},
   "source": [
    "### Import required packages and connect to AML workspace"
   ]
  },
  {
   "cell_type": "code",
   "execution_count": null,
   "id": "db5fa9e1-b214-4ca5-8a87-3c9cc71745b9",
   "metadata": {
    "tags": []
   },
   "outputs": [],
   "source": [
    "from azure.ai.ml import MLClient, Input\n",
    "from azure.ai.ml.entities import ManagedOnlineEndpoint, ManagedOnlineDeployment, Model, Environment, ModelPackage, BaseEnvironment, AzureMLOnlineInferencingServer, CodeConfiguration, DataCollector, DeploymentCollection\n",
    "from azure.ai.ml.constants import AssetTypes\n",
    "from azure.identity import DefaultAzureCredential\n",
    "from azure.ai.ml.entities import ContainerRegistryCredential\n",
    "\n",
    "\n",
    "subscription_id = \"...\"\n",
    "resource_group = \"...\"\n",
    "workspace = \"...\"\n",
    "model_name = \"zone1-power-consumption-xgboost-model\"\n",
    "\n",
    "ml_client = MLClient(DefaultAzureCredential(), subscription_id, resource_group, workspace)\n",
    "ml_client"
   ]
  },
  {
   "cell_type": "markdown",
   "id": "aaffa64b",
   "metadata": {},
   "source": [
    "### Retrieve container registry name \n",
    "\n",
    "Note: this can be overwritten if targeting alternative container registries"
   ]
  },
  {
   "cell_type": "code",
   "execution_count": null,
   "id": "566faaa3-70be-4d07-9616-8d28be5f1780",
   "metadata": {
    "tags": []
   },
   "outputs": [],
   "source": [
    "ml_client.workspaces.get(ml_client.workspace_name).container_registry\n",
    "\n",
    "acr_name = ml_client.workspaces.get(ml_client.workspace_name).container_registry.split('/')[-1]\n",
    "acr_name\n",
    "\n",
    "acr_login_server = f'{acr_name}.azurecr.io'  # ACR login server\n",
    "\n",
    "image_name = 'zone-power-consumption:2' \n",
    "\n",
    "container_path = f'{acr_login_server}/{image_name}'\n",
    "container_path"
   ]
  },
  {
   "cell_type": "code",
   "execution_count": 3,
   "id": "36fd9ea9-86dc-4ee0-9144-3ed0e0ff57fa",
   "metadata": {
    "tags": []
   },
   "outputs": [],
   "source": [
    "env = Environment(\n",
    "    image=container_path,\n",
    ")"
   ]
  },
  {
   "cell_type": "code",
   "execution_count": 4,
   "id": "61885ab6-0fa1-4ffe-9f8d-2b2572e4e52d",
   "metadata": {},
   "outputs": [],
   "source": [
    "# Creating a unique endpoint name with current datetime to avoid conflicts\n",
    "import datetime\n",
    "\n",
    "online_endpoint_name = \"power-endpoint\"\n",
    "\n",
    "# create an online endpoint\n",
    "endpoint = ManagedOnlineEndpoint(\n",
    "    name=online_endpoint_name,\n",
    "    description=\"DEMO - Endpoint for Power Consumption Model Demo\",\n",
    "    auth_mode=\"key\",\n",
    ")\n",
    "endpoint = ml_client.online_endpoints.begin_create_or_update(endpoint).result()"
   ]
  },
  {
   "cell_type": "markdown",
   "id": "ab25209d",
   "metadata": {},
   "source": [
    "### Create deployment which uses custom scoring script (`score.py`) for input/output logging"
   ]
  },
  {
   "cell_type": "code",
   "execution_count": null,
   "id": "1f32572d-a61f-4901-89ec-1af8192f4240",
   "metadata": {
    "tags": []
   },
   "outputs": [],
   "source": [
    "model = Model(name=\"power-model\", path=\"model\")\n",
    "\n",
    "inputs_collection = DeploymentCollection(enabled=True)\n",
    "outputs_collection = DeploymentCollection(enabled=True)\n",
    "\n",
    "mdc = DataCollector(collections={'model_inputs':inputs_collection, 'model_outputs':outputs_collection})\n",
    "\n",
    "blue_deployment = ManagedOnlineDeployment(\n",
    "    name=\"blue\",\n",
    "    endpoint_name=online_endpoint_name,\n",
    "    model=model,\n",
    "    environment=env,\n",
    "    environment_variables={\n",
    "        \"MODEL_BASE_PATH\": \"/\",\n",
    "        \"MODEL_NAME\": \"power-model\",\n",
    "    },\n",
    "    instance_type=\"Standard_F2s_v2\",\n",
    "    instance_count=1,\n",
    "    data_collector=mdc,\n",
    "    code_configuration=CodeConfiguration(code=\".\", scoring_script=\"score.py\")\n",
    ")\n",
    "ml_client.begin_create_or_update(blue_deployment).result()"
   ]
  },
  {
   "cell_type": "code",
   "execution_count": 16,
   "id": "d9b8f77b-1544-4d92-97bd-96ead2912fd2",
   "metadata": {
    "tags": []
   },
   "outputs": [
    {
     "name": "stderr",
     "output_type": "stream",
     "text": [
      "Readonly attribute principal_id will be ignored in class <class 'azure.ai.ml._restclient.v2022_05_01.models._models_py3.ManagedServiceIdentity'>\n",
      "Readonly attribute tenant_id will be ignored in class <class 'azure.ai.ml._restclient.v2022_05_01.models._models_py3.ManagedServiceIdentity'>\n"
     ]
    }
   ],
   "source": [
    "endpoint.traffic = {\"blue\": 100}\n",
    "endpoint.mirror_traffic = {}\n",
    "endpoint = ml_client.online_endpoints.begin_create_or_update(endpoint).result()"
   ]
  }
 ],
 "metadata": {
  "kernelspec": {
   "display_name": "Python 3.10 - SDK v2",
   "language": "python",
   "name": "python310-sdkv2"
  },
  "language_info": {
   "codemirror_mode": {
    "name": "ipython",
    "version": 3
   },
   "file_extension": ".py",
   "mimetype": "text/x-python",
   "name": "python",
   "nbconvert_exporter": "python",
   "pygments_lexer": "ipython3",
   "version": "3.10.14"
  }
 },
 "nbformat": 4,
 "nbformat_minor": 5
}
