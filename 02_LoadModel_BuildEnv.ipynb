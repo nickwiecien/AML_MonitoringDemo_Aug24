{
 "cells": [
  {
   "cell_type": "markdown",
   "id": "72dab772",
   "metadata": {},
   "source": [
    "# Step 02 - Retrieve MLflow model from registry, build serving image, and push to target registry\n",
    "\n",
    "Notebook is built to retrieve and download a MLflow model from a AML registry (however, this could be from any registry), then to create a serving docker image based on the included `Dockerfile` here. The dependencies contained within the MLflow's conda YAML file are installed into that image before it is pushed into a container registry."
   ]
  },
  {
   "cell_type": "markdown",
   "id": "7ab6c16c",
   "metadata": {},
   "source": [
    "### Import required packages and create connection to AML workspace"
   ]
  },
  {
   "cell_type": "code",
   "execution_count": null,
   "id": "1b848691-e997-436d-ba0b-aea99c9fe9db",
   "metadata": {
    "tags": []
   },
   "outputs": [],
   "source": [
    "from azure.ai.ml import MLClient, Input\n",
    "from azure.ai.ml.entities import ManagedOnlineEndpoint, ManagedOnlineDeployment, Model, Environment, ModelPackage, BaseEnvironment, AzureMLOnlineInferencingServer, CodeConfiguration, DataCollector, DeploymentCollection\n",
    "from azure.ai.ml.constants import AssetTypes\n",
    "from azure.identity import DefaultAzureCredential\n",
    "\n",
    "from sklearn.metrics import mean_absolute_error, r2_score\n",
    "import pandas as pd\n",
    "from sklearn.model_selection import train_test_split\n",
    "from sklearn.ensemble import RandomForestRegressor\n",
    "from sklearn.metrics import mean_squared_error, mean_absolute_error, r2_score\n",
    "import numpy as np\n",
    "import mlflow\n",
    "import mlflow.sklearn\n",
    "\n",
    "subscription_id = \"...\"\n",
    "resource_group = \"...\"\n",
    "workspace = \"...\"\n",
    "model_name = \"zone1-power-consumption-xgboost-model\"\n",
    "\n",
    "ml_client = MLClient(DefaultAzureCredential(), subscription_id, resource_group, workspace)\n",
    "ml_client"
   ]
  },
  {
   "cell_type": "markdown",
   "id": "4cb0613a",
   "metadata": {},
   "source": [
    "### Retrieve model and download a local copy"
   ]
  },
  {
   "cell_type": "code",
   "execution_count": 22,
   "id": "e4ef1a0d-ea81-4dbc-babd-31ef3484a19c",
   "metadata": {
    "tags": []
   },
   "outputs": [],
   "source": [
    "registered_model = ml_client.models.get(model_name, label='latest')"
   ]
  },
  {
   "cell_type": "code",
   "execution_count": null,
   "id": "14cde9ee-9e7d-4021-890e-7d2f1dd12b33",
   "metadata": {
    "tags": []
   },
   "outputs": [],
   "source": [
    "import shutil\n",
    "try:\n",
    "    shutil.rmtree('./model')\n",
    "except Exception as e:\n",
    "    pass\n",
    "\n",
    "# mlflow.sklearn.load_model(registered_model.path)\n",
    "model_uri = f\"runs:/{registered_model.job_name}/model\"\n",
    "\n",
    "model = mlflow.sklearn.load_model(model_uri)\n",
    "mlflow.xgboost.save_model(model, './model')"
   ]
  },
  {
   "cell_type": "markdown",
   "id": "d6eba023",
   "metadata": {},
   "source": [
    "### Build a custom serving container using docker python package"
   ]
  },
  {
   "cell_type": "code",
   "execution_count": null,
   "id": "d79e551e-369d-4a50-9890-60b8223dc54a",
   "metadata": {
    "tags": []
   },
   "outputs": [],
   "source": [
    "import docker\n",
    "from IPython.display import display, Markdown\n",
    "\n",
    "def build_docker_image(dockerfile_path, image_name, context_path='.'):\n",
    "    # Initialize the Docker client\n",
    "    client = docker.from_env()\n",
    "\n",
    "    # Build the Docker image\n",
    "    try:\n",
    "        image, logs = client.images.build(path=context_path, dockerfile=dockerfile_path, tag=image_name, rm=True)\n",
    "        # Display logs\n",
    "        for log in logs:\n",
    "            if 'stream' in log:\n",
    "                display(Markdown(f\"```\\n{log['stream']}\\n```\"))\n",
    "        \n",
    "        display(Markdown(f\"**Docker image '{image_name}' built successfully.**\"))\n",
    "        return image\n",
    "\n",
    "    except docker.errors.BuildError as e:\n",
    "        display(Markdown(f\"**Error occurred while building the Docker image: {e}**\"))\n",
    "    except docker.errors.APIError as e:\n",
    "        display(Markdown(f\"**Error communicating with Docker API: {e}**\"))\n",
    "\n",
    "# Specify paths\n",
    "dockerfile_path = './Dockerfile'  # Path to your Dockerfile\n",
    "image_name = 'zone-power-consumption:2'    # Name of the Docker image\n",
    "context_path = '.'                # Context path for the build (where your Dockerfile and model directory are located)\n",
    "\n",
    "# Build the Docker image\n",
    "image = build_docker_image(dockerfile_path, image_name, context_path)\n"
   ]
  },
  {
   "cell_type": "markdown",
   "id": "40101066",
   "metadata": {},
   "source": [
    "### Connect to container registry and push image\n",
    "\n",
    "Azure Container Registry is targeted here, however by modifying docker login server and credentials images can be pushed to different directories"
   ]
  },
  {
   "cell_type": "code",
   "execution_count": 30,
   "id": "013b5f00-32d5-4b80-a354-32638518d534",
   "metadata": {
    "tags": []
   },
   "outputs": [],
   "source": [
    "ml_client.workspaces.get(ml_client.workspace_name).container_registry\n",
    "\n",
    "acr_name = ml_client.workspaces.get(ml_client.workspace_name).container_registry.split('/')[-1]\n",
    "acr_name\n",
    "\n",
    "acr_login_server = f'{acr_name}.azurecr.io'  # ACR login server"
   ]
  },
  {
   "cell_type": "code",
   "execution_count": 31,
   "id": "b92ecdcc-a4f5-4884-a147-e520d090f51f",
   "metadata": {
    "tags": []
   },
   "outputs": [],
   "source": [
    "import os\n",
    "os.environ['username'] = '...'\n",
    "os.environ['password'] = '...'\n",
    "username = os.environ['username']\n",
    "password = os.environ['password']"
   ]
  },
  {
   "cell_type": "code",
   "execution_count": 32,
   "id": "7a5f8601-b8fa-4ecb-a7fe-899e2bba2d7d",
   "metadata": {
    "tags": []
   },
   "outputs": [
    {
     "name": "stdout",
     "output_type": "stream",
     "text": [
      "\u001b[93mThe login server endpoint suffix '.azurecr.io' is automatically omitted.\u001b[0m\n",
      "Login Succeeded\n",
      "\u001b[93mWARNING! Your password will be stored unencrypted in /home/azureuser/.docker/config.json.\n",
      "Configure a credential helper to remove this warning. See\n",
      "https://docs.docker.com/engine/reference/commandline/login/#credentials-store\u001b[0m\n"
     ]
    }
   ],
   "source": [
    "! az acr login --name {acr_login_server} --username {username} --password {password}"
   ]
  },
  {
   "cell_type": "code",
   "execution_count": null,
   "id": "e0aa02e5-f00d-4d65-a18a-0f16bd9cae16",
   "metadata": {
    "tags": []
   },
   "outputs": [],
   "source": [
    "def push_docker_image_to_acr(image, acr_name, image_name, acr_login_server):\n",
    "    client = docker.from_env()\n",
    "\n",
    "    # Tag the image\n",
    "    acr_image_name = f\"{acr_login_server}/{image_name}\"\n",
    "    image.tag(acr_image_name)\n",
    "    \n",
    "    # Push the image\n",
    "    try:\n",
    "        for line in client.images.push(acr_image_name, stream=True, decode=True):\n",
    "            if 'status' in line:\n",
    "                display(Markdown(f\"```\\n{line['status']}\\n```\"))\n",
    "\n",
    "        display(Markdown(f\"**Docker image '{acr_image_name}' pushed successfully to ACR.**\"))\n",
    "\n",
    "    except docker.errors.APIError as e:\n",
    "        display(Markdown(f\"**Error pushing Docker image to ACR: {e}**\"))\n",
    "        \n",
    "push_docker_image_to_acr(image, acr_name, image_name, acr_login_server)"
   ]
  }
 ],
 "metadata": {
  "kernelspec": {
   "display_name": "Python 3.10 - SDK v2",
   "language": "python",
   "name": "python310-sdkv2"
  },
  "language_info": {
   "codemirror_mode": {
    "name": "ipython",
    "version": 3
   },
   "file_extension": ".py",
   "mimetype": "text/x-python",
   "name": "python",
   "nbconvert_exporter": "python",
   "pygments_lexer": "ipython3",
   "version": "3.10.14"
  }
 },
 "nbformat": 4,
 "nbformat_minor": 5
}
