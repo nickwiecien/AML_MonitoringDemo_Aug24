{
 "cells": [
  {
   "cell_type": "markdown",
   "id": "364ed7cc",
   "metadata": {},
   "source": [
    "# Step 05 - Set Up Out-of-Box Model Monitoring\n",
    "\n",
    "Use [Azure ML's built-in model/data drift monitoring](https://learn.microsoft.com/en-us/azure/machine-learning/how-to-monitor-model-performance?view=azureml-api-2&tabs=python) using the default mode which identifies deviations in captured inferencing data. "
   ]
  },
  {
   "cell_type": "markdown",
   "id": "3e6b1a16",
   "metadata": {},
   "source": [
    "### Import required packages and connect to Azure ML workspace"
   ]
  },
  {
   "cell_type": "code",
   "execution_count": null,
   "id": "ad3893ff-2b7a-4471-a4e7-87be0f7b7db2",
   "metadata": {
    "tags": []
   },
   "outputs": [],
   "source": [
    "from azure.ai.ml import MLClient, Input\n",
    "from azure.ai.ml.entities import ManagedOnlineEndpoint, ManagedOnlineDeployment, Model, Environment, ModelPackage, BaseEnvironment, AzureMLOnlineInferencingServer, CodeConfiguration, DataCollector, DeploymentCollection\n",
    "from azure.ai.ml.constants import AssetTypes\n",
    "from azure.identity import DefaultAzureCredential\n",
    "from azure.ai.ml.entities import ContainerRegistryCredential\n",
    "\n",
    "from azure.ai.ml.entities import (\n",
    "    AlertNotification,\n",
    "    MonitoringTarget,\n",
    "    MonitorDefinition,\n",
    "    MonitorSchedule,\n",
    "    RecurrencePattern,\n",
    "    RecurrenceTrigger,\n",
    "    ServerlessSparkCompute\n",
    ")\n",
    "\n",
    "subscription_id = \"...\"\n",
    "resource_group = \"...\"\n",
    "workspace = \"...\"\n",
    "model_name = \"zone1-power-consumption-xgboost-model\"\n",
    "\n",
    "ml_client = MLClient(DefaultAzureCredential(), subscription_id, resource_group, workspace)\n",
    "ml_client"
   ]
  },
  {
   "cell_type": "markdown",
   "id": "92ba2e56",
   "metadata": {},
   "source": [
    "### Configure out-of-box monitoring for captured data"
   ]
  },
  {
   "cell_type": "code",
   "execution_count": 11,
   "id": "49a4c266-cbbe-40d5-b7d9-58356ee613e7",
   "metadata": {
    "tags": []
   },
   "outputs": [
    {
     "name": "stdout",
     "output_type": "stream",
     "text": [
      "..."
     ]
    }
   ],
   "source": [
    "# create the compute\n",
    "spark_compute = ServerlessSparkCompute(\n",
    "    instance_type=\"standard_e4s_v3\",\n",
    "    runtime_version=\"3.3\"\n",
    ")\n",
    "\n",
    "# specify your online endpoint deployment\n",
    "monitoring_target = MonitoringTarget(\n",
    "    ml_task=\"regression\",\n",
    "    endpoint_deployment_id=\"azureml:power-endpoint:blue\"\n",
    ")\n",
    "\n",
    "\n",
    "# create the monitor definition\n",
    "monitor_definition = MonitorDefinition(\n",
    "    compute=spark_compute,\n",
    "    monitoring_target=monitoring_target,\n",
    ")\n",
    "\n",
    "# specify the schedule frequency\n",
    "recurrence_trigger = RecurrenceTrigger(\n",
    "    frequency=\"day\",\n",
    "    interval=1,\n",
    "    schedule=RecurrencePattern(hours=3, minutes=15)\n",
    ")\n",
    "\n",
    "# create the monitor\n",
    "model_monitor = MonitorSchedule(\n",
    "    name=\"power_endpoint_basic\",\n",
    "    trigger=recurrence_trigger,\n",
    "    create_monitor=monitor_definition\n",
    ")\n",
    "\n",
    "poller = ml_client.schedules.begin_create_or_update(model_monitor)\n",
    "created_monitor = poller.result()"
   ]
  }
 ],
 "metadata": {
  "kernelspec": {
   "display_name": "Python 3.10 - SDK v2",
   "language": "python",
   "name": "python310-sdkv2"
  },
  "language_info": {
   "codemirror_mode": {
    "name": "ipython",
    "version": 3
   },
   "file_extension": ".py",
   "mimetype": "text/x-python",
   "name": "python",
   "nbconvert_exporter": "python",
   "pygments_lexer": "ipython3",
   "version": "3.10.14"
  }
 },
 "nbformat": 4,
 "nbformat_minor": 5
}
